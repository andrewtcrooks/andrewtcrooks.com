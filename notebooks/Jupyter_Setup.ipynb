{
 "cells": [
  {
   "cell_type": "code",
   "execution_count": null,
   "metadata": {
    "collapsed": true
   },
   "outputs": [],
   "source": [
    "#ignore\n",
    "How to setup Jupyter notebooks (Mac)"
   ]
  },
  {
   "cell_type": "markdown",
   "metadata": {},
   "source": [
    "Follow the directions below:\n",
    "\n",
    "1. Install the latest version of Anaconda in the default location (~/anaconda/bin)                        [graphical installer recommended]\n",
    "2. Run Anaconda Navigator\n",
    "3. Select \"Environmants\" tab on the left\n",
    "4. Above the list of package names, change the drop-down menu from \"Installed\" to\"Upgradable\"\n",
    "5. In the \"Search Packages\" field, type \"jupyter\"\n",
    "6. Click on the little blue arrow to the right of each package name then select \"Apply\" at the bottom right.\n",
    "7. Run the following lines of code from a terminal to create a folder for the notebooks, generate the default configuration file, point jupyter to the newly created notebook folder, and set the static password (don't skip this!) "
   ]
  },
  {
   "cell_type": "code",
   "execution_count": null,
   "metadata": {
    "collapsed": true
   },
   "outputs": [],
   "source": [
    "mkdir ~/notebooks # create dir\n",
    "jupyter notebook --generate-config # generate ~/.jupyter/jupyter_notebook_config.py\n",
    "echo \"c.NotebookApp.notebook_dir = '~/notebooks'\" >> ~/.jupyter/jupyter_notebook_config.py \n",
    "jupyter notebook password # set password"
   ]
  },
  {
   "cell_type": "markdown",
   "metadata": {},
   "source": [
    "After entering a password, run the remaining code below. "
   ]
  },
  {
   "cell_type": "code",
   "execution_count": null,
   "metadata": {
    "collapsed": true
   },
   "outputs": [],
   "source": [
    "mkdir ~/scripts # create dir\n",
    "echo \"~/anaconda/bin/jupyter notebook --port=8889 --no-browser\" >> ~/scripts/jpy_nbk_start.sh \n",
    "chmod +x ~/scripts/jpy_nbk_start.sh # make script executable\n",
    "sh ~/scripts/jpy_nbk_start.sh # run script"
   ]
  },
  {
   "cell_type": "markdown",
   "metadata": {},
   "source": [
    "The last part of the code made a directory for shell scripts, created a shell script to start the jupyter notebook server, made the script executable, and then ran the script.\n",
    "\n",
    "Everything is now installed and running.\n",
    "\n",
    "To access the notebook server, follow these final steps:\n",
    "\n",
    "1. Open localhost:8889 in a web browser to access your Jupyter notebook directory.\n",
    "2. At the password promt, enter the password you entered after the first batch of code.\n",
    "3. Let your browser remember the password so you don't have to type it every time you reload the page.\n",
    "4. Save a bookmark on the page you come to after opening localhost:8889.\n",
    "5. Select \"New\" from the upper right hand corner. Then select Python 3.\n",
    "6. Type your python code into a cell and hit shift+enter on your keyboard to run the cell\n",
    "7. From the menu bar, select Insert -> Cell Above or Insert -> Cell below to add cell relative to the currently selected one.\n",
    "8. Enjoy the possibilities!\n",
    "\n",
    "\n",
    "Pro Tip: Run ~/scripts/jpy_nbk_start.sh automatically at boot for a persistent notebook server on your computer! Otherwise, the script will need to be run again after every reboot."
   ]
  },
  {
   "cell_type": "code",
   "execution_count": null,
   "metadata": {
    "collapsed": true
   },
   "outputs": [],
   "source": [
    "#ignore"
   ]
  }
 ],
 "metadata": {
  "kernelspec": {
   "display_name": "Python 3",
   "language": "python",
   "name": "python3"
  },
  "language_info": {
   "codemirror_mode": {
    "name": "ipython",
    "version": 3
   },
   "file_extension": ".py",
   "mimetype": "text/x-python",
   "name": "python",
   "nbconvert_exporter": "python",
   "pygments_lexer": "ipython3",
   "version": "3.6.0"
  }
 },
 "nbformat": 4,
 "nbformat_minor": 2
}
