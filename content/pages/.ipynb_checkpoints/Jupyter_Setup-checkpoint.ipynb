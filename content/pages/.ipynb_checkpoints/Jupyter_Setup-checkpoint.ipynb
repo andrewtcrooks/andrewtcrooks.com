{
 "cells": [
  {
   "cell_type": "markdown",
   "metadata": {},
   "source": [
    "How to painlessly set up Jupyter notebook server on Mac OS X\n",
    "\n",
    "1. Install the latest version of Anaconda in the default location (~/anaconda/bin)    [graphical installer recommended]\n",
    "2. Run Anaconda Navigator\n",
    "3. Select \"Environmants\" tab on the left\n",
    "4. Above the list of package names, change the drop-down menu from \"Installed\" to\"Upgradable\"\n",
    "5. In the \"Search Packages\" field, type \"jupyter\"\n",
    "6. Click on the little blue arrow to the right of each package name then select \"Apply\" at the bottom right.\n",
    "7. Run the following lines of code from a terminal to create folders for your notebooks and you own personal shell scripts"
   ]
  },
  {
   "cell_type": "code",
   "execution_count": null,
   "metadata": {
    "collapsed": true
   },
   "outputs": [],
   "source": [
    "# Create root directory, generate default Jupyter config file, \n",
    "# append root dir to notebook_dir, and set static password.\n",
    "\n",
    "mkdir ~/notebooks # create dir\n",
    "jupyter notebook --generate-config # generate ~/.jupyter/jupyter_notebook_config.py\n",
    "echo \"c.NotebookApp.notebook_dir = '~/notebooks'\" >> ~/.jupyter/jupyter_notebook_config.py \n",
    "jupyter notebook password # set password"
   ]
  },
  {
   "cell_type": "markdown",
   "metadata": {},
   "source": [
    "After entering the last line you will be asked to provide a password for your Jupyter notebook server. This part is a requirement as no password is an option that could compromise the security of your system. You will also need the password for the last step.\n",
    "\n",
    "\n",
    "After entering your chosen password, run the remaining code ."
   ]
  },
  {
   "cell_type": "code",
   "execution_count": null,
   "metadata": {
    "collapsed": true
   },
   "outputs": [],
   "source": [
    "# Write shell script that starts headless notebook server\n",
    "mkdir ~/scripts # create dir\n",
    "echo \"~/anaconda/bin/jupyter notebook --port=8889 --no-browser\" >> ~/scripts/jpy_nbk_start.sh \n",
    "chmod +x ~/scripts/jpy_nbk_start.sh # make script executable\n",
    "sh ~/scripts/jpy_nbk_start.sh # run script"
   ]
  },
  {
   "cell_type": "markdown",
   "metadata": {},
   "source": [
    "* You can now open localhost:8889 in any web browser to access your Jupyter notebook directory.\n",
    "* You will be asked for the password you entered ont he command line in step 7.\n",
    "* Let your browser remember the password so you don't have to type it every time you reload the page.\n",
    "* Save a bookmark on the page you come to after opening localhost:8889.\n",
    "* Select \"New\" from the upper right hand corner. Then select Python 3.\n",
    "* Type your python code into a cell and hit shift+enter on your keyboard to run the cell\n",
    "* From the menu bar, select Insert _> Cell Above or Insert -> Cell below to add cell relative to the currently selected one.\n",
    "* Enjoy the possibilities!\n",
    "\n",
    "\n",
    "Pro Tip: Run ~/scripts/jpy_nbk_start.sh automatically at boot for a persistent notebook server on your computer!"
   ]
  },
  {
   "cell_type": "code",
   "execution_count": null,
   "metadata": {
    "collapsed": true
   },
   "outputs": [],
   "source": []
  },
  {
   "cell_type": "markdown",
   "metadata": {},
   "source": [
    "What's so useful about Jupyter notebooks anyways?\n",
    "\n",
    "First, I'm currently typing up this tutorial in a Jupyter notebook.\n",
    "Second, I"
   ]
  },
  {
   "cell_type": "code",
   "execution_count": null,
   "metadata": {
    "collapsed": true
   },
   "outputs": [],
   "source": []
  }
 ],
 "metadata": {
  "kernelspec": {
   "display_name": "Python 3",
   "language": "python",
   "name": "python3"
  },
  "language_info": {
   "codemirror_mode": {
    "name": "ipython",
    "version": 3
   },
   "file_extension": ".py",
   "mimetype": "text/x-python",
   "name": "python",
   "nbconvert_exporter": "python",
   "pygments_lexer": "ipython3",
   "version": "3.6.0"
  }
 },
 "nbformat": 4,
 "nbformat_minor": 2
}
